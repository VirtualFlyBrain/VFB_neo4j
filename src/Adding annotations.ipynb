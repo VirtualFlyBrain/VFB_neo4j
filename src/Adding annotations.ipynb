{
 "cells": [
  {
   "cell_type": "code",
   "execution_count": 10,
   "metadata": {
    "collapsed": false
   },
   "outputs": [
    {
     "name": "stderr",
     "output_type": "stream",
     "text": [
      "/repos/VFB_neo4j/src/uk/ac/ebi/vfb/neo4j/KB_tools.py:174: UserWarning: Edge not added. Something doesn't match here: [\"'fru-M-300249'\", \"'neuron'\"]\n",
      "  warnings.warn(\"Edge not added. Something doesn't match here: %s\" % str(e))\n",
      "/repos/VFB_neo4j/src/uk/ac/ebi/vfb/neo4j/KB_tools.py:174: UserWarning: Edge not added. Something doesn't match here: [\"'fru-M-300249'\", \"'has synaptic terminal in'\", \"'wedge'\"]\n",
      "  warnings.warn(\"Edge not added. Something doesn't match here: %s\" % str(e))\n",
      "/repos/VFB_neo4j/src/uk/ac/ebi/vfb/neo4j/KB_tools.py:281: UserWarning: The following features did not match any known  feature in FlyBase: {'fubar'}\n",
      "  \" feature in FlyBase: %s\" % str(diff))\n"
     ]
    }
   ],
   "source": [
    "from uk.ac.ebi.vfb.neo4j.KB_tools import node_importer\n",
    "from uk.ac.ebi.vfb.neo4j.KB_tools import kb_owl_edge_writer\n",
    "from tsv2pdm import tab  # https://github.com/dosumis/tsv2pdm\n",
    "\n",
    "## How to use uk.ac.ebi.vfb.neo4j.KB_tools to add types to individuals in the DB.\n",
    "### Classes and relations mentioned must already be in the DB.  \n",
    "### All of FBbt should already be loaded.\n",
    "\n",
    "intab = tab(path='./', file_name='type_by_name_test.tsv')\n",
    "\n",
    "## subject\trelation\tobject\n",
    "## fru-M-300249\t\tneuron\n",
    "## fru-M-300249\thas synaptic terminal in\twedge\n",
    "\n",
    "ew = kb_owl_edge_writer(endpoint = 'http://localhost:7474', usr = 'neo4j', pwd = 'neo4j')\n",
    "\n",
    "for r in intab.tab:\n",
    "    if r['relation']:\n",
    "        ew.add_anon_type_ax(r['subject'], r['relation'], r['object'], match_on='label')\n",
    "    else:\n",
    "        ew.add_named_type_ax(r['subject'], r['object'], match_on='label')   \n",
    "ew.commit() # Attempting to add any axioms with unknown subject, object or relation => warning\n",
    "\n",
    "# New FB features need to be added before refereincing in a type statement:\n",
    "\n",
    "ni = node_importer(enpoint = 'http://localhost:7474', usr = 'neo4j', pwd = 'neo4j')\n",
    "ni.update_from_flybase(['FBal0090583', 'fubar']) #unknown FlyBase features promprt a warning\n",
    "ni.commit()"
   ]
  }
 ],
 "metadata": {
  "kernelspec": {
   "display_name": "Python 3",
   "language": "python",
   "name": "python3"
  },
  "language_info": {
   "codemirror_mode": {
    "name": "ipython",
    "version": 3
   },
   "file_extension": ".py",
   "mimetype": "text/x-python",
   "name": "python",
   "nbconvert_exporter": "python",
   "pygments_lexer": "ipython3",
   "version": "3.5.1"
  }
 },
 "nbformat": 4,
 "nbformat_minor": 1
}
